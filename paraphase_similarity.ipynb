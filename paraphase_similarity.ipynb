{
 "cells": [
  {
   "cell_type": "code",
   "execution_count": 8,
   "metadata": {},
   "outputs": [],
   "source": [
    "from __future__ import unicode_literals\n",
    "from spacy.lang.en.stop_words import STOP_WORDS\n",
    "import gensim\n",
    "import spacy\n",
    "import textacy\n",
    "import re\n",
    "import numpy as np\n",
    "from scipy import spatial\n",
    "\n",
    "nlp = spacy.load('en')"
   ]
  },
  {
   "cell_type": "code",
   "execution_count": 20,
   "metadata": {},
   "outputs": [],
   "source": [
    "#loading word2vec\n",
    "model = gensim.models.KeyedVectors.load_word2vec_format('./googlenewsvectorsnegative300/GoogleNews-vectors-negative300.bin',binary=True,limit=500000) \n",
    "\n",
    "#Training word2vec wmbedding using the phrase corpus or similar\n",
    "# sentences = [sent1_phr_lst,sent2_phr_lst]\n",
    "# model = Word2Vec(min_count=1)\n",
    "# model.build_vocab(sentences)  # prepare the model vocabulary\n",
    "# model.train(sentences, total_examples=model.corpus_count, epochs=model.iter) "
   ]
  },
  {
   "cell_type": "code",
   "execution_count": 131,
   "metadata": {},
   "outputs": [],
   "source": [
    "# Given two sentences that are known to be paraphrases, pick the phrases that are similar and\n",
    "# contribute to their overall similarity:\n",
    "# Example 1:\n",
    "# Charlie Chan is off the case for the Fox Movie Channel.\n",
    "# The Fox Movie Channel has banned Charlie Chan.\n",
    "\n",
    "# Feelings about current business conditions improved substantially from the first quarter, jumping from 40 to 55.\n",
    "# Assessment of current business conditions improved substantially, the Conference Board said, jumping to 55 from 40 in the\n",
    "# first quarter."
   ]
  },
  {
   "cell_type": "code",
   "execution_count": 66,
   "metadata": {},
   "outputs": [],
   "source": [
    "sent1 = \"Feelings about current business conditions improved substantially from the first quarter, jumping from 40 to 55.\"\n",
    "sent2 = \"Assessment of current business conditions improved substantially, the Conference Board said, jumping to 55 from 40 in the first quarter.\""
   ]
  },
  {
   "cell_type": "code",
   "execution_count": 67,
   "metadata": {},
   "outputs": [],
   "source": [
    "# Cleaning the sentence\n",
    "# def clean_sentence(sentence):\n",
    "#     sentence = sentence.strip()\n",
    "#     sentence = re.sub(r'[^a-zA-Z0-9\\s]','', sentence)\n",
    "#     return re.sub(r'\\s{2,}', ' ', sentence)\n",
    "                      \n",
    "# For Removing the stopwords\n",
    "# # Removing stopwords\n",
    "# def Remove_stopwords(sentence):\n",
    "#     return ' '.join([token for token in sentence.split() if token not in STOP_WORDS])"
   ]
  },
  {
   "cell_type": "code",
   "execution_count": 68,
   "metadata": {},
   "outputs": [],
   "source": [
    "# Extracting the phrases from the sentences\n",
    "def extract_phrases(doc):\n",
    "    phrase_list = []\n",
    "    # Extracting the noun phrase from the sentence\n",
    "    for chunk in doc.noun_chunks:\n",
    "         phrase_list.append(str(chunk).lower())\n",
    "      \n",
    "    #Extracting the verb phrase from the sentence\n",
    "    pattern =  r'<VERB>?<ADV>*<VERB>+'\n",
    "    lists = textacy.extract.pos_regex_matches(doc, pattern)\n",
    "    for list in lists:\n",
    "         phrase_list.append(list.text.lower())\n",
    "    \n",
    "    return phrase_list"
   ]
  },
  {
   "cell_type": "code",
   "execution_count": 69,
   "metadata": {},
   "outputs": [],
   "source": [
    "# Averaging the vector for each word in a phrase\n",
    "def avg_feature_vector(sentence, model, num_features, index2word_set):\n",
    "    words = sentence.split()\n",
    "    feature_vec = np.zeros((num_features, ), dtype='float32')\n",
    "    n_words = 0\n",
    "    for word in words:\n",
    "        if word in index2word_set:\n",
    "            n_words += 1\n",
    "            feature_vec = np.add(feature_vec, model[word])\n",
    "    if (n_words > 0):\n",
    "        feature_vec = np.divide(feature_vec, n_words)\n",
    "    return feature_vec"
   ]
  },
  {
   "cell_type": "code",
   "execution_count": 70,
   "metadata": {},
   "outputs": [],
   "source": [
    "# sent1 = clean_sentence(sent1)\n",
    "# sent2 = clean_sentence(sent2)"
   ]
  },
  {
   "cell_type": "code",
   "execution_count": 71,
   "metadata": {},
   "outputs": [
    {
     "name": "stderr",
     "output_type": "stream",
     "text": [
      "/home/irfan/anaconda3/lib/python3.7/site-packages/textacy/extract.py:327: DeprecationWarning: `pos_regex_matches()` has been deprecated! for similar but more powerful and performant functionality, use `textacy.extract.matches()` instead.\n",
      "  action=\"once\",\n",
      "/home/irfan/anaconda3/lib/python3.7/site-packages/textacy/extract.py:327: DeprecationWarning: `pos_regex_matches()` has been deprecated! for similar but more powerful and performant functionality, use `textacy.extract.matches()` instead.\n",
      "  action=\"once\",\n"
     ]
    }
   ],
   "source": [
    "sent1_phr_lst = extract_phrases(nlp(sent1))\n",
    "sent2_phr_lst = extract_phrases(nlp(sent2))"
   ]
  },
  {
   "cell_type": "code",
   "execution_count": 72,
   "metadata": {},
   "outputs": [
    {
     "name": "stdout",
     "output_type": "stream",
     "text": [
      "['feelings', 'current business conditions', 'the first quarter', 'improved', 'jumping']\n",
      "['assessment', 'current business conditions', 'the conference board', 'the first quarter', 'improved', 'said', 'jumping']\n"
     ]
    }
   ],
   "source": [
    "print(sent1_phr_lst)\n",
    "print(sent2_phr_lst)"
   ]
  },
  {
   "cell_type": "code",
   "execution_count": 77,
   "metadata": {},
   "outputs": [
    {
     "name": "stdout",
     "output_type": "stream",
     "text": [
      "feelings , current business conditions , 0.18913332\n",
      "current business conditions , current business conditions , 1.0\n",
      "the first quarter , the first quarter , 1.0\n",
      "improved , improved , 1.0\n",
      "jumping , jumping , 1.0\n"
     ]
    },
    {
     "name": "stderr",
     "output_type": "stream",
     "text": [
      "/home/irfan/anaconda3/lib/python3.7/site-packages/ipykernel_launcher.py:8: DeprecationWarning: Call to deprecated `wv` (Attribute will be removed in 4.0.0, use self instead).\n",
      "  \n",
      "/home/irfan/anaconda3/lib/python3.7/site-packages/ipykernel_launcher.py:10: DeprecationWarning: Call to deprecated `wv` (Attribute will be removed in 4.0.0, use self instead).\n",
      "  # Remove the CWD from sys.path while we load stuff.\n",
      "/home/irfan/anaconda3/lib/python3.7/site-packages/ipykernel_launcher.py:11: DeprecationWarning: Call to deprecated `wv` (Attribute will be removed in 4.0.0, use self instead).\n",
      "  # This is added back by InteractiveShellApp.init_path()\n"
     ]
    }
   ],
   "source": [
    "# Finding the phrases with the highest similarity\n",
    "for ph1 in sent1_phr_lst:\n",
    "    max_sim = 0\n",
    "    ph_sim =''\n",
    "    for ph2 in sent2_phr_lst:\n",
    "        if max_sim == 0:\n",
    "            # Cosine similarity between two words.\n",
    "            max_sim = model.wv.n_similarity(ph1.lower().split(), ph2.lower().split())\n",
    "            ph_sim = ph2\n",
    "        elif max_sim <= model.wv.n_similarity(ph1.lower().split(), ph2.lower().split()):\n",
    "            max_sim = model.wv.n_similarity(ph1.lower().split(), ph2.lower().split())\n",
    "            ph_sim = ph2\n",
    "            \n",
    "    if max_sim >= 0:\n",
    "        print(ph1,',',ph_sim,',',max_sim)"
   ]
  },
  {
   "cell_type": "code",
   "execution_count": 44,
   "metadata": {},
   "outputs": [
    {
     "data": {
      "text/plain": [
       "0.018422892"
      ]
     },
     "execution_count": 44,
     "metadata": {},
     "output_type": "execute_result"
    }
   ],
   "source": [
    "#loading word2vec\n",
    "model = gensim.models.KeyedVectors.load_word2vec_format('./googlenewsvectorsnegative300/GoogleNews-vectors-negative300.bin',binary=True,limit=500000) \n",
    "model.similarity('is', 'banned')"
   ]
  },
  {
   "cell_type": "code",
   "execution_count": 45,
   "metadata": {},
   "outputs": [
    {
     "data": {
      "text/plain": [
       "'Charlie Chan is off the case for the Fox Movie Channel'"
      ]
     },
     "execution_count": 45,
     "metadata": {},
     "output_type": "execute_result"
    }
   ],
   "source": [
    "sent1"
   ]
  },
  {
   "cell_type": "code",
   "execution_count": 17,
   "metadata": {},
   "outputs": [
    {
     "name": "stderr",
     "output_type": "stream",
     "text": [
      "/home/irfan/anaconda3/lib/python3.7/site-packages/ipykernel_launcher.py:4: DeprecationWarning: Call to deprecated `wv` (Attribute will be removed in 4.0.0, use self instead).\n",
      "  after removing the cwd from sys.path.\n"
     ]
    }
   ],
   "source": [
    "import numpy as np\n",
    "from scipy import spatial\n",
    "\n",
    "index2word_set = set(model.wv.index2word)\n",
    "\n",
    "def avg_feature_vector(sentence, model, num_features, index2word_set):\n",
    "    words = sentence.split()\n",
    "    feature_vec = np.zeros((num_features, ), dtype='float32')\n",
    "    n_words = 0\n",
    "    for word in words:\n",
    "        if word in index2word_set:\n",
    "            n_words += 1\n",
    "            feature_vec = np.add(feature_vec, model[word])\n",
    "    if (n_words > 0):\n",
    "        feature_vec = np.divide(feature_vec, n_words)\n",
    "    return feature_vec"
   ]
  },
  {
   "cell_type": "code",
   "execution_count": 19,
   "metadata": {},
   "outputs": [
    {
     "name": "stdout",
     "output_type": "stream",
     "text": [
      "0.764363706111908\n"
     ]
    }
   ],
   "source": [
    "s1_afv = avg_feature_vector('sentence', model=model, num_features=300, index2word_set=index2word_set)\n",
    "s2_afv = avg_feature_vector('this is also sentence', model=model, num_features=300, index2word_set=index2word_set)\n",
    "sim = 1 - spatial.distance.cosine(s1_afv, s2_afv)\n",
    "print(sim)"
   ]
  },
  {
   "cell_type": "code",
   "execution_count": 40,
   "metadata": {},
   "outputs": [
    {
     "name": "stderr",
     "output_type": "stream",
     "text": [
      "/home/irfan/anaconda3/lib/python3.7/site-packages/ipykernel_launcher.py:4: DeprecationWarning: Call to deprecated `wv` (Attribute will be removed in 4.0.0, use self instead).\n",
      "  after removing the cwd from sys.path.\n"
     ]
    }
   ],
   "source": [
    "s1 = 'Charlie Chan making sentence'\n",
    "s2 = 'this is also sentence made by Charlie Chan' #corrected variable name\n",
    "\n",
    "distance = model.wv.n_similarity(s1.lower().split(), s2.lower().split())"
   ]
  },
  {
   "cell_type": "code",
   "execution_count": 41,
   "metadata": {},
   "outputs": [
    {
     "name": "stdout",
     "output_type": "stream",
     "text": [
      "0.8618682\n"
     ]
    }
   ],
   "source": [
    "print(distance)"
   ]
  },
  {
   "cell_type": "markdown",
   "metadata": {},
   "source": [
    "# Using fasttext"
   ]
  },
  {
   "cell_type": "code",
   "execution_count": 221,
   "metadata": {},
   "outputs": [],
   "source": [
    "from gensim.models import FastText\n",
    "from gensim.test.utils import common_texts\n",
    "model = FastText(size=4, window=3, min_count=1)  # instantiate\n",
    "model.build_vocab(sentences=common_texts)\n",
    "model.train(sentences=common_texts, total_examples=len(common_texts), epochs=10)  # train"
   ]
  },
  {
   "cell_type": "code",
   "execution_count": 222,
   "metadata": {},
   "outputs": [
    {
     "data": {
      "text/plain": [
       "[['human', 'interface', 'computer'],\n",
       " ['survey', 'user', 'computer', 'system', 'response', 'time'],\n",
       " ['eps', 'user', 'interface', 'system'],\n",
       " ['system', 'human', 'system', 'eps'],\n",
       " ['user', 'response', 'time'],\n",
       " ['trees'],\n",
       " ['graph', 'trees'],\n",
       " ['graph', 'minors', 'trees'],\n",
       " ['graph', 'minors', 'survey']]"
      ]
     },
     "execution_count": 222,
     "metadata": {},
     "output_type": "execute_result"
    }
   ],
   "source": [
    "common_texts"
   ]
  },
  {
   "cell_type": "code",
   "execution_count": 223,
   "metadata": {},
   "outputs": [
    {
     "data": {
      "text/plain": [
       "0.70550853"
      ]
     },
     "execution_count": 223,
     "metadata": {},
     "output_type": "execute_result"
    }
   ],
   "source": [
    "model.wv.similarity('human' ,  'user')"
   ]
  },
  {
   "cell_type": "code",
   "execution_count": 23,
   "metadata": {},
   "outputs": [
    {
     "data": {
      "text/plain": [
       "[]"
      ]
     },
     "execution_count": 23,
     "metadata": {},
     "output_type": "execute_result"
    }
   ],
   "source": [
    "from spacy.matcher import PhraseMatcher\n",
    "matcher = PhraseMatcher(nlp.vocab)\n",
    "\n",
    "matcher.add(\"off\", None, nlp(\"is off\"))\n",
    "doc = nlp(\"The Fox Movie Channel has banned Charlie Chan.\")\n",
    "\n",
    "matches = matcher(doc)\n",
    "matches"
   ]
  },
  {
   "cell_type": "code",
   "execution_count": 9,
   "metadata": {},
   "outputs": [],
   "source": [
    "matcher = PhraseMatcher(nlp.vocab)\n",
    "assert \"OBAMA\" not in matcher\n",
    "matcher.add(\"OBAMA\", None, nlp(\"Barack Obama\"))\n",
    "assert \"OBAMA\" in matcher"
   ]
  },
  {
   "cell_type": "code",
   "execution_count": 19,
   "metadata": {},
   "outputs": [
    {
     "name": "stderr",
     "output_type": "stream",
     "text": [
      "C:\\ProgramData\\Anaconda3\\lib\\site-packages\\textacy\\extract.py:327: DeprecationWarning: `pos_regex_matches()` has been deprecated! for similar but more powerful and performant functionality, use `textacy.extract.matches()` instead.\n",
      "  action=\"once\",\n"
     ]
    }
   ],
   "source": [
    "from __future__ import unicode_literals\n",
    "import spacy,en_core_web_sm\n",
    "\n",
    "nlp = spacy.load('en_core_web_sm')\n",
    "sentence = \"Barack Obama lifts America one last time in emotional farewell\"\n",
    "# pattern = r'<VERB>?<ADV>*<VERB>+'\n",
    "pattern =  r'<PREP> <DET>? (<NOUN>+<ADP>)* <NOUN>+'\n",
    "doc = nlp(sentence)\n",
    "lists = textacy.extract.pos_regex_matches(doc, pattern)\n",
    "for list in lists:\n",
    "    print(list.text)"
   ]
  },
  {
   "cell_type": "code",
   "execution_count": 12,
   "metadata": {},
   "outputs": [
    {
     "data": {
      "text/plain": [
       "0.5"
      ]
     },
     "execution_count": 12,
     "metadata": {},
     "output_type": "execute_result"
    }
   ],
   "source": [
    "import nltk\n",
    "from nltk.corpus import wordnet as wn\n",
    "\n",
    "# find approriate sense of word\n",
    "deer = wn.synset('deer.n.01')\n",
    "elk =wn.synset('elk.n.01')\n",
    "\n",
    "# find path similarity\n",
    "deer.path_similarity(elk)"
   ]
  },
  {
   "cell_type": "code",
   "execution_count": 27,
   "metadata": {},
   "outputs": [
    {
     "name": "stdout",
     "output_type": "stream",
     "text": [
      "Phrases<19 vocab, min_count=2, threshold=7, max_vocab_size=40000000>\n"
     ]
    }
   ],
   "source": [
    "# Extracting phrases using gensim\n",
    "from gensim.models.phrases import Phrases, Phraser\n",
    "def build_phrases(sentences):\n",
    "    phrases = Phrases(sentences,\n",
    "                      min_count=2,\n",
    "                      threshold=7)\n",
    "    print(phrases)\n",
    "    return Phraser(phrases)\n",
    "\n",
    "phrase= build_phrases(\"Barack Obama lifts America one last time in emotional farewell\")"
   ]
  },
  {
   "cell_type": "code",
   "execution_count": 49,
   "metadata": {},
   "outputs": [
    {
     "name": "stdout",
     "output_type": "stream",
     "text": [
      "['The', 'Fox_Movie', 'Channel', 'has', 'banned', 'Charlie', 'Chan']\n"
     ]
    }
   ],
   "source": [
    "from gensim.models import Phrases\n",
    "# documents = [\"the mayor of new york was there\", \"machine learning can be useful sometimes\",\"new york mayor was present\"]\n",
    "documents = [sent1 , sent2]\n",
    "sentence_stream = [doc.split(\" \") for doc in documents]\n",
    "bigram = Phrases(sentence_stream, min_count=1, threshold=2)\n",
    "sent = ['The', 'Fox' ,'Movie', 'Channel', 'has', 'banned', 'Charlie', 'Chan']\n",
    "print(bigram[sent])"
   ]
  },
  {
   "cell_type": "code",
   "execution_count": 68,
   "metadata": {},
   "outputs": [
    {
     "name": "stderr",
     "output_type": "stream",
     "text": [
      "C:\\ProgramData\\Anaconda3\\lib\\site-packages\\ipykernel_launcher.py:5: DeprecationWarning: Call to deprecated `iter` (Attribute will be removed in 4.0.0, use self.epochs instead).\n",
      "  \"\"\"\n"
     ]
    },
    {
     "data": {
      "text/plain": [
       "(1, 25)"
      ]
     },
     "execution_count": 68,
     "metadata": {},
     "output_type": "execute_result"
    }
   ],
   "source": [
    "from gensim.models import Word2Vec\n",
    "sentences = [['i','reports','him'], ['he','reported']]\n",
    "model = Word2Vec(min_count=1)\n",
    "model.build_vocab(sentences)  # prepare the model vocabulary\n",
    "model.train(sentences, total_examples=model.corpus_count, epochs=model.iter)  # train word vectors"
   ]
  },
  {
   "cell_type": "code",
   "execution_count": 69,
   "metadata": {},
   "outputs": [
    {
     "name": "stderr",
     "output_type": "stream",
     "text": [
      "C:\\ProgramData\\Anaconda3\\lib\\site-packages\\ipykernel_launcher.py:1: DeprecationWarning: Call to deprecated `similarity` (Method will be removed in 4.0.0, use self.wv.similarity() instead).\n",
      "  \"\"\"Entry point for launching an IPython kernel.\n"
     ]
    },
    {
     "data": {
      "text/plain": [
       "0.05383833"
      ]
     },
     "execution_count": 69,
     "metadata": {},
     "output_type": "execute_result"
    }
   ],
   "source": []
  },
  {
   "cell_type": "code",
   "execution_count": 62,
   "metadata": {},
   "outputs": [
    {
     "data": {
      "text/plain": [
       "['Charlie Chan', 'the case', 'the Fox Movie Channel']"
      ]
     },
     "execution_count": 62,
     "metadata": {},
     "output_type": "execute_result"
    }
   ],
   "source": [
    "sent1_noun_phr_lst"
   ]
  },
  {
   "cell_type": "code",
   "execution_count": 63,
   "metadata": {},
   "outputs": [
    {
     "data": {
      "text/plain": [
       "['The Fox Movie Channel', 'Charlie Chan']"
      ]
     },
     "execution_count": 63,
     "metadata": {},
     "output_type": "execute_result"
    }
   ],
   "source": [
    "sent2_noun_phr_lst"
   ]
  },
  {
   "cell_type": "code",
   "execution_count": 1,
   "metadata": {},
   "outputs": [],
   "source": [
    "# Different types of tree travarsal\n",
    "import nltk\n",
    "s = '(ROOT (S (NP (NNP Europe)) (VP (VBZ is) (PP (IN in) (NP (DT the) (JJ same) (NNS trends)))) (. .)))'\n",
    "tree = nltk.tree.Tree.fromstring(s)\n",
    "def traverse_tree(tree):\n",
    "    # print(\"tree:\", tree)\n",
    "    for subtree in tree:\n",
    "        if type(subtree) == nltk.tree.Tree:\n",
    "            traverse_tree(subtree)\n",
    "traverse_tree(tree)"
   ]
  },
  {
   "cell_type": "code",
   "execution_count": 2,
   "metadata": {},
   "outputs": [
    {
     "data": {
      "image/png": "[encoded data removed]",
      "text/plain": [
       "Tree('ROOT', [Tree('S', [Tree('NP', [Tree('NNP', ['Europe'])]), Tree('VP', [Tree('VBZ', ['is']), Tree('PP', [Tree('IN', ['in']), Tree('NP', [Tree('DT', ['the']), Tree('JJ', ['same']), Tree('NNS', ['trends'])])])]), Tree('.', ['.'])])])"
      ]
     },
     "execution_count": 2,
     "metadata": {},
     "output_type": "execute_result"
    }
   ],
   "source": [
    "tree"
   ]
  },
  {
   "cell_type": "code",
   "execution_count": null,
   "metadata": {},
   "outputs": [],
   "source": [
    "# W2V similarity value \n",
    "\n",
    "sent1 = \"Charlie Chan is off the case for the Fox Movie Channel.\"\n"
   ]
  }
 ],
 "metadata": {
  "kernelspec": {
   "display_name": "Python 3",
   "language": "python",
   "name": "python3"
  },
  "language_info": {
   "codemirror_mode": {
    "name": "ipython",
    "version": 3
   },
   "file_extension": ".py",
   "mimetype": "text/x-python",
   "name": "python",
   "nbconvert_exporter": "python",
   "pygments_lexer": "ipython3",
   "version": "3.7.3"
  }
 },
 "nbformat": 4,
 "nbformat_minor": 2
}
