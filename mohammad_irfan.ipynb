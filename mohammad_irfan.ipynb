{
  "nbformat": 4,
  "nbformat_minor": 0,
  "metadata": {
    "colab": {
      "name": "mohammad irfan.ipynb",
      "provenance": [],
      "collapsed_sections": [],
      "include_colab_link": true
    },
    "kernelspec": {
      "name": "python3",
      "display_name": "Python 3"
    }
  },
  "cells": [
    {
      "cell_type": "markdown",
      "metadata": {
        "id": "view-in-github",
        "colab_type": "text"
      },
      "source": [
        "<a href=\"https://colab.research.google.com/github/irfanki/Paraphase_similarity/blob/master/mohammad_irfan.ipynb\" target=\"_parent\"><img src=\"https://colab.research.google.com/assets/colab-badge.svg\" alt=\"Open In Colab\"/></a>"
      ]
    },
    {
      "cell_type": "markdown",
      "metadata": {
        "id": "9p205Z2-uwi9",
        "colab_type": "text"
      },
      "source": [
        "Q: Given a list of unsorted integers, group them into groups of contiguous elements\n",
        "\n",
        "Example: Input: [3, 4, 7, 2, 8, 10, 5, 0]\n",
        "\n",
        "Output: [[0], [2,3,4,5], [7,8], [10]]\n",
        "\n",
        "\n"
      ]
    },
    {
      "cell_type": "code",
      "metadata": {
        "id": "AxlLZosy3GvJ",
        "colab_type": "code",
        "colab": {
          "base_uri": "https://localhost:8080/",
          "height": 34
        },
        "outputId": "b1300479-d05d-49cd-b6f6-3f15ea66ca95"
      },
      "source": [
        "input_list = [3, 4, 7, 2, 8, 10, 5, 0,12 ,14,17,18,19,21,22,23,24,24,25,23]\n",
        "input_list.sort()\n",
        "# input_list= sorted(input_list)\n",
        "print(input_list)\n",
        "output_list = []\n",
        "i = 0"
      ],
      "execution_count": 2,
      "outputs": [
        {
          "output_type": "stream",
          "text": [
            "[0, 2, 3, 4, 5, 7, 8, 10, 12, 14, 17, 18, 19, 21, 22, 23, 23, 24, 24, 25]\n"
          ],
          "name": "stdout"
        }
      ]
    },
    {
      "cell_type": "code",
      "metadata": {
        "id": "TX-grjCy5n_a",
        "colab_type": "code",
        "colab": {
          "base_uri": "https://localhost:8080/",
          "height": 85
        },
        "outputId": "b8c4069a-bd5a-4003-e780-296f67efb79b"
      },
      "source": [
        "while True:\n",
        "    if i < len(input_list):\n",
        "        for j in range(i, len(input_list)):\n",
        "            if (j + 1) != len(input_list):\n",
        "                if (input_list[j] + 1) == input_list[j + 1] or input_list[j] == input_list[j + 1]:\n",
        "                    j = j + 1\n",
        "                else:\n",
        "                    if i != j:\n",
        "                        j = j + 1\n",
        "                        output_list.append(input_list[i: j])\n",
        "                        i = j\n",
        "                        print(output_list)\n",
        "                    else:\n",
        "                        output_list.append(input_list[j])\n",
        "                        i = j + 1\n",
        "                    break\n",
        "            else:\n",
        "                output_list.append(input_list[i:j+1])\n",
        "                i = j + 1\n",
        "                break\n",
        "    else:\n",
        "        break\n",
        "\n",
        "print(output_list)\n"
      ],
      "execution_count": 3,
      "outputs": [
        {
          "output_type": "stream",
          "text": [
            "[0, [2, 3, 4, 5]]\n",
            "[0, [2, 3, 4, 5], [7, 8]]\n",
            "[0, [2, 3, 4, 5], [7, 8], 10, 12, 14, [17, 18, 19]]\n",
            "[0, [2, 3, 4, 5], [7, 8], 10, 12, 14, [17, 18, 19], [21, 22, 23, 23, 24, 24, 25]]\n"
          ],
          "name": "stdout"
        }
      ]
    },
    {
      "cell_type": "code",
      "metadata": {
        "id": "jQZfsYY-ASnY",
        "colab_type": "code",
        "colab": {}
      },
      "source": [
        ""
      ],
      "execution_count": 0,
      "outputs": []
    }
  ]
}